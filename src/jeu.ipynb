{
 "cells": [
  {
   "cell_type": "code",
   "execution_count": null,
   "id": "71f1ba26",
   "metadata": {},
   "outputs": [],
   "source": [
    "npm install -g firebase-tools\n",
    "\n",
    "\n"
   ]
  }
 ],
 "metadata": {
  "language_info": {
   "name": "python"
  }
 },
 "nbformat": 4,
 "nbformat_minor": 5
}
